{
 "cells": [
  {
   "cell_type": "markdown",
   "id": "ee990ea4-82b4-4a96-abaf-167496563cfc",
   "metadata": {},
   "source": [
    "# Fetching and extracting Enron Email Dataset.\n",
    "The Enron email dataset can be used for document retrieval example workflows. It contains aproxiametly 500,000 email messages. Information about the dataset can be found <a href='https://www.cs.cmu.edu/~enron/'>here</a>."
   ]
  },
  {
   "cell_type": "markdown",
   "id": "03805d84-5083-435e-aa2b-2f667bb57c97",
   "metadata": {},
   "source": [
    "## Setup\n",
    "Getting things ready for the dataset."
   ]
  },
  {
   "cell_type": "code",
   "execution_count": 33,
   "id": "ffdddc0c-1570-493e-a1e7-228944f4b9bc",
   "metadata": {},
   "outputs": [],
   "source": [
    "import os\n",
    "\n",
    "# Set the Paths\n",
    "DOWNLOAD_PATH = 'downloads/'\n",
    "DATA_PATH = 'data/'\n",
    "DATA_URL = 'https://www.cs.cmu.edu/~enron/'\n",
    "DATA_FILENAME = 'enron_mail_20150507.tar.gz'\n",
    "EXTRACTED_FOLDER_NAME = 'maildir'\n",
    "\n",
    "# Check if download folder exists\n",
    "if not os.path.exists(DOWNLOAD_PATH):\n",
    "    print(\"Download path does not exist. Creating it now..\")\n",
    "    os.mkdir(DOWNLOAD_PATH)\n",
    "    \n",
    "# Check if data folder exists\n",
    "if not os.path.exists(DATA_PATH):\n",
    "    print(\"Data path does not exist. Creating it now..\")\n",
    "    os.mkdir(DATA_PATH)"
   ]
  },
  {
   "cell_type": "markdown",
   "id": "b1457aab-8ad8-4921-9b2c-afab5fd47604",
   "metadata": {},
   "source": [
    "## Downloading the dataset\n",
    "Download the dataset from cs.cmu.edu"
   ]
  },
  {
   "cell_type": "code",
   "execution_count": 31,
   "id": "ec520442-24d4-4317-967c-3020a26166a7",
   "metadata": {},
   "outputs": [
    {
     "name": "stdout",
     "output_type": "stream",
     "text": [
      "--2022-11-04 19:28:13--  https://www.cs.cmu.edu/~enron/enron_mail_20150507.tar.gz\n",
      "Resolving www.cs.cmu.edu (www.cs.cmu.edu)... 128.2.42.95\n",
      "Connecting to www.cs.cmu.edu (www.cs.cmu.edu)|128.2.42.95|:443... connected.\n",
      "HTTP request sent, awaiting response... 200 OK\n",
      "Length: 443254787 (423M) [application/x-gzip]\n",
      "Saving to: ‘downloads/enron_mail_20150507.tar.gz’\n",
      "\n",
      "enron_mail_20150507 100%[===================>] 422.72M  4.95MB/s    in 85s     \n",
      "\n",
      "2022-11-04 19:29:39 (4.96 MB/s) - ‘downloads/enron_mail_20150507.tar.gz’ saved [443254787/443254787]\n",
      "\n"
     ]
    }
   ],
   "source": [
    "!wget $DATA_URL$DATA_FILENAME -P $DOWNLOAD_PATH"
   ]
  },
  {
   "cell_type": "markdown",
   "id": "d486c33c-bccf-4956-86f3-cea2b3d65d4f",
   "metadata": {},
   "source": [
    "## Extracting the dataset"
   ]
  },
  {
   "cell_type": "code",
   "execution_count": 32,
   "id": "2207ad20-890e-4978-a92e-9be2779d57a4",
   "metadata": {},
   "outputs": [],
   "source": [
    "!tar -xf $DOWNLOAD_PATH$DATA_FILENAME -C $DATA_PATH"
   ]
  },
  {
   "cell_type": "markdown",
   "id": "b2ba2774-d8db-4c3a-be33-026e8bbf3aba",
   "metadata": {},
   "source": [
    "Count the number of files"
   ]
  },
  {
   "cell_type": "code",
   "execution_count": 37,
   "id": "5b28b607-79e7-4bc3-9373-6b9d52b559bb",
   "metadata": {},
   "outputs": [
    {
     "name": "stdout",
     "output_type": "stream",
     "text": [
      "517411\n"
     ]
    }
   ],
   "source": [
    "!find $DATA_PATH$EXTRACTED_FOLDER_NAME -type f | wc -l "
   ]
  }
 ],
 "metadata": {
  "kernelspec": {
   "display_name": "Python 3 (ipykernel)",
   "language": "python",
   "name": "python3"
  },
  "language_info": {
   "codemirror_mode": {
    "name": "ipython",
    "version": 3
   },
   "file_extension": ".py",
   "mimetype": "text/x-python",
   "name": "python",
   "nbconvert_exporter": "python",
   "pygments_lexer": "ipython3",
   "version": "3.9.13"
  }
 },
 "nbformat": 4,
 "nbformat_minor": 5
}
