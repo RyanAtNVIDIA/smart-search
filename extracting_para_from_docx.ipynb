{
 "cells": [
  {
   "cell_type": "markdown",
   "id": "ae2e9be3-2dea-4ea3-bd87-508c91c9fb2e",
   "metadata": {},
   "source": [
    "# Reading Docx documents from python"
   ]
  },
  {
   "cell_type": "code",
   "execution_count": 58,
   "id": "55cfb935-65e6-4dec-b91b-c51effc5ebca",
   "metadata": {},
   "outputs": [],
   "source": [
    "# You will likely need to pip install docx2python\n",
    "from docx2python import docx2python\n",
    "\n",
    "import os"
   ]
  },
  {
   "cell_type": "code",
   "execution_count": 113,
   "id": "a0fa8a00-ce6b-4b8d-a308-c8be50fd3b11",
   "metadata": {},
   "outputs": [
    {
     "name": "stdout",
     "output_type": "stream",
     "text": [
      "8 files found.\n"
     ]
    }
   ],
   "source": [
    "mypath = 'docs/'\n",
    "\n",
    "# create an empty list for the file paths\n",
    "file_names = []\n",
    "\n",
    "\n",
    "for r, d, f in os.walk(mypath):\n",
    "    for file in f:\n",
    "        #print(os.path.join(root, file))\n",
    "        if 'docx' in file:\n",
    "            file_names.append(os.path.join(r, file))\n",
    "\n",
    "print(\"{} files found.\".format(len(file_names)))"
   ]
  },
  {
   "cell_type": "code",
   "execution_count": 100,
   "id": "80d31c81-f867-4801-8717-02d9f434e56d",
   "metadata": {},
   "outputs": [],
   "source": [
    "# If we simply just want to extract the text we can use the line below\n",
    "results = docx2python(file_name)\n",
    "                      \n",
    "# If we also want to get some meta data such as heading level we can use the commented line below\n",
    "#results = docx2python(file_name, html=True)"
   ]
  },
  {
   "cell_type": "markdown",
   "id": "409d092a-b6b8-4d18-8b66-891c7c03d250",
   "metadata": {},
   "source": [
    "## View the document properties"
   ]
  },
  {
   "cell_type": "code",
   "execution_count": 101,
   "id": "62ab15d8-9ecd-44b8-bba0-7339c5aedf51",
   "metadata": {},
   "outputs": [
    {
     "data": {
      "text/plain": [
       "{'title': None,\n",
       " 'subject': None,\n",
       " 'creator': 'Ryan Simpson',\n",
       " 'keywords': None,\n",
       " 'description': None,\n",
       " 'lastModifiedBy': 'Ryan Simpson',\n",
       " 'revision': '12',\n",
       " 'created': '2022-09-21T13:22:00Z',\n",
       " 'modified': '2022-09-27T23:34:00Z'}"
      ]
     },
     "execution_count": 101,
     "metadata": {},
     "output_type": "execute_result"
    }
   ],
   "source": [
    "results.properties"
   ]
  },
  {
   "cell_type": "code",
   "execution_count": 121,
   "id": "9a5a3667-c136-4329-a6bc-bf4489e45a8c",
   "metadata": {},
   "outputs": [],
   "source": [
    "# Get the file properties\n",
    "title = []\n",
    "subject = []\n",
    "creator = []\n",
    "last_modified_by = []\n",
    "revision = []\n",
    "created = []\n",
    "modified = []\n",
    "\n",
    "for file_name in file_names:\n",
    "    result = docx2python(file_name)\n",
    "    title.append(result.properties['title'])\n",
    "    subject.append(result.properties['subject'])\n",
    "    creator.append(result.properties['creator'])\n",
    "    last_modified_by.append(result.properties['lastModifiedBy'])\n",
    "    revision.append(result.properties['revision'])\n",
    "    created.append(result.properties['created'])\n",
    "    modified.append(result.properties['modified'])\n",
    "    "
   ]
  },
  {
   "cell_type": "code",
   "execution_count": 123,
   "id": "16c72f24-2933-4e16-bde4-a69a9f4350a6",
   "metadata": {},
   "outputs": [],
   "source": [
    "# Extract the paragraphs\n",
    "source_file = []\n",
    "paragraphs = [];\n",
    "\n",
    "for file_name in file_names:\n",
    "    result = docx2python(file_name)\n",
    "    \n",
    "    body = results.body\n",
    "    for doc in body:\n",
    "        tables = doc[:]\n",
    "        for table in tables:\n",
    "            rows = table[:]\n",
    "            for row in rows:\n",
    "                cells = row[:]\n",
    "                for cell in cells:               \n",
    "                    source_file.append(file_name)\n",
    "                    paragraphs.append(cell)"
   ]
  },
  {
   "cell_type": "code",
   "execution_count": 127,
   "id": "a2ab40ea-e200-4fa6-b5d4-9903ca1843c0",
   "metadata": {},
   "outputs": [],
   "source": [
    "# Create a dataframe and write to disk\n",
    "import pandas as pd\n",
    "\n",
    "d = {'source_file':source_file, 'paragraph':paragraphs}\n",
    "df = pd.DataFrame(d)\n",
    "\n",
    "df.to_parquet('paragraphs.parquet')"
   ]
  },
  {
   "cell_type": "markdown",
   "id": "dc8d356a-67f2-45b2-95b5-8490615e07b3",
   "metadata": {},
   "source": [
    "## Accessing document text.\n",
    "Some of the methods for access document text looks to depend on if their are tables in a given document. Refer to https://github.com/ShayHill/docx2python for more information.\n",
    "\n",
    "Using the body function returns nested lists, paragraphs can be accessed at depth 4 as shown below."
   ]
  }
 ],
 "metadata": {
  "kernelspec": {
   "display_name": "Python 3 (ipykernel)",
   "language": "python",
   "name": "python3"
  },
  "language_info": {
   "codemirror_mode": {
    "name": "ipython",
    "version": 3
   },
   "file_extension": ".py",
   "mimetype": "text/x-python",
   "name": "python",
   "nbconvert_exporter": "python",
   "pygments_lexer": "ipython3",
   "version": "3.9.13"
  }
 },
 "nbformat": 4,
 "nbformat_minor": 5
}
