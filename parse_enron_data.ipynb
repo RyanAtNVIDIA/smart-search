{
 "cells": [
  {
   "cell_type": "markdown",
   "id": "f5043eaf-4185-4e58-9dfc-c302d31da6e8",
   "metadata": {},
   "source": [
    "# Parsing Source Text From Enron Dataset\n",
    "This notebook extracts the message content from the Enron Dataset. The Eron Dataset can be downloaded and extracted using <a href='gather_enron_dataset.ipynb'>gather_enron_dataset.ipynb</a>"
   ]
  },
  {
   "cell_type": "markdown",
   "id": "3f1637ca-595b-48ca-8fc7-a32a5c8de748",
   "metadata": {
    "tags": []
   },
   "source": [
    "#### Imports"
   ]
  },
  {
   "cell_type": "code",
   "execution_count": 1,
   "id": "e685ecef-3edd-4fc9-b21a-b102f2eae23c",
   "metadata": {},
   "outputs": [],
   "source": [
    "import os\n",
    "from os import walk\n",
    "import pandas as pd"
   ]
  },
  {
   "cell_type": "markdown",
   "id": "fc90e6b7-1960-4356-aab9-b2b3f314fb5e",
   "metadata": {
    "jp-MarkdownHeadingCollapsed": true,
    "tags": []
   },
   "source": [
    "### Helper functions"
   ]
  },
  {
   "cell_type": "code",
   "execution_count": 2,
   "id": "cc45ec64-fba2-4197-bdce-9ff5e0e3e593",
   "metadata": {},
   "outputs": [],
   "source": [
    "# Create some helper functions\n",
    "def get_email_meta(file_path):\n",
    "    try: \n",
    "        with open(file_path) as file:\n",
    "\n",
    "            # Initialize Flags\n",
    "            is_reply_forward = False\n",
    "            header = True\n",
    "    \n",
    "            # Initialize Variables\n",
    "            date = \"\"\n",
    "            from_address = \"\"\n",
    "            to_address = \"\"\n",
    "            org_filename = \"\"\n",
    "            message = \"\"\n",
    "\n",
    "\n",
    "            # Get all the lines in the file\n",
    "            lines = [line.rstrip() for line in file]\n",
    "\n",
    "            for line in lines:\n",
    "                if line.startswith(\"Message-ID: \"):\n",
    "                    message_id = line.replace(\"Message-ID: \",\"\")\n",
    "\n",
    "                # Check if email has been flagged as reply or forward to prevent overwriting variables\n",
    "                if not is_reply_forward:\n",
    "\n",
    "                    if line.startswith(\"Date: \"):\n",
    "                        date = line.replace(\"Date: \",\"\")\n",
    "                        continue\n",
    "\n",
    "                    if line.startswith(\"From: \"):\n",
    "                        from_address = line.replace(\"From: \",\"\")\n",
    "                        continue\n",
    "\n",
    "                    if line.startswith(\"To: \"):\n",
    "                        to_address = line.replace(\"To: \",\"\")\n",
    "                        continue\n",
    "\n",
    "                    if line.startswith(\"X-FileName: \"):\n",
    "                        org_filename = line.replace(\"X-FileName: \",\"\")\n",
    "\n",
    "                        # Set header flag to false as the X-FileName appears to be the last line in the header\n",
    "                        header = False\n",
    "                        continue\n",
    "\n",
    "                    # Check for the term \"Original Message\" which indicates the rest of the files contains the message\n",
    "                    # being forwarded or replied to.\n",
    "                    if \"Original Message\" in line:            \n",
    "                        is_reply_forward = True\n",
    "                        continue\n",
    "\n",
    "                    # If we are no longer in the header and wer are not part of a forwarded message\n",
    "                    # we can consider this line as part of the message\n",
    "                    if not header:\n",
    "                        message += \"\\n\" + line\n",
    "                        continue\n",
    "        email = {\n",
    "            'file_path' : file_path, \n",
    "            'message_id' : message_id ,\n",
    "            'date' : date ,\n",
    "            'from_address' : from_address ,\n",
    "            'to_address' : to_address ,\n",
    "            'org_filename' : org_filename ,\n",
    "            'is_reply_forward' : is_reply_forward,\n",
    "            'message' : message\n",
    "        }\n",
    "\n",
    "        return email\n",
    "    except UnicodeDecodeError:\n",
    "        \n",
    "        email = {\n",
    "                'file_path' : file_path, \n",
    "                'message_id' : \"BAD_FILE\" ,\n",
    "                'date' : \"BAD_FILE\" ,\n",
    "                'from_address' : \"BAD_FILE\" ,\n",
    "                'to_address' : \"BAD_FILE\" ,\n",
    "                'org_filename' : \"BAD_FILE\" ,\n",
    "                'is_reply_forward' : False ,\n",
    "                'message' : \"BAD_FILE\"\n",
    "            }\n",
    "        \n",
    "        return email"
   ]
  },
  {
   "cell_type": "markdown",
   "id": "603076ce-74ec-4dd7-92b0-caf0000efd58",
   "metadata": {
    "jp-MarkdownHeadingCollapsed": true,
    "tags": []
   },
   "source": [
    "## Find email files\n",
    "If the email files were properly downloaded and extracted using the <a href='gather_enron_dataset.ipynb'>gather_enron_dataset notebook</a> there should be over 500,000 files to process."
   ]
  },
  {
   "cell_type": "code",
   "execution_count": 3,
   "id": "ae1fe5c9-a002-4181-b958-1687d8afc881",
   "metadata": {},
   "outputs": [
    {
     "name": "stdout",
     "output_type": "stream",
     "text": [
      "517415 files found.\n"
     ]
    }
   ],
   "source": [
    "# Identify location of xml files\n",
    "mypath = \"data/maildir/\"\n",
    "\n",
    "# create an empty list for the file paths\n",
    "files = []\n",
    "\n",
    "\n",
    "for r, d, f in os.walk(mypath):\n",
    "    for file in f:\n",
    "        #print(os.path.join(root, file))  \n",
    "        files.append(os.path.join(r, file))\n",
    "\n",
    "print(\"{} files found.\".format(len(files)))"
   ]
  },
  {
   "cell_type": "markdown",
   "id": "5125d8b3-b2ed-4ceb-8868-58e88ff40db2",
   "metadata": {
    "tags": []
   },
   "source": [
    "## Extract Data\n",
    "Extract the meta data and messages from all the documents in the dataset."
   ]
  },
  {
   "cell_type": "code",
   "execution_count": 4,
   "id": "b713a4d8-3d08-453e-8e05-73707176ffcd",
   "metadata": {},
   "outputs": [
    {
     "name": "stdout",
     "output_type": "stream",
     "text": [
      "CPU times: user 24.3 s, sys: 3.31 s, total: 27.7 s\n",
      "Wall time: 27.7 s\n"
     ]
    }
   ],
   "source": [
    "%%time\n",
    "# Create a dataframe of all the emails\n",
    "df = pd.concat([pd.DataFrame(get_email_meta(files[i]) for i in range(0,len(files)))])"
   ]
  },
  {
   "cell_type": "code",
   "execution_count": 5,
   "id": "8ec4fe52-450c-4629-8b0f-4dccd9314e86",
   "metadata": {},
   "outputs": [
    {
     "name": "stdout",
     "output_type": "stream",
     "text": [
      "CPU times: user 2.68 s, sys: 966 ms, total: 3.65 s\n",
      "Wall time: 3.58 s\n"
     ]
    }
   ],
   "source": [
    "%%time\n",
    "df.to_parquet(\"data/enron_extracted/email_data.parquet\")"
   ]
  }
 ],
 "metadata": {
  "kernelspec": {
   "display_name": "Python 3 (ipykernel)",
   "language": "python",
   "name": "python3"
  },
  "language_info": {
   "codemirror_mode": {
    "name": "ipython",
    "version": 3
   },
   "file_extension": ".py",
   "mimetype": "text/x-python",
   "name": "python",
   "nbconvert_exporter": "python",
   "pygments_lexer": "ipython3",
   "version": "3.9.13"
  }
 },
 "nbformat": 4,
 "nbformat_minor": 5
}
