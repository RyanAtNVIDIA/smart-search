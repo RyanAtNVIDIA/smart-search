{
 "cells": [
  {
   "cell_type": "markdown",
   "id": "aa8f90ce-70c5-447e-a931-8fa783e224b4",
   "metadata": {},
   "source": [
    "# Extracting US Patent Abstracts\n",
    "This notebook has been created to extract US Patent Abstracts from USPTO XML files stored in the data folder.\n"
   ]
  },
  {
   "cell_type": "code",
   "execution_count": 1,
   "id": "91de5931-3aa6-4398-9864-d325b9c2592d",
   "metadata": {},
   "outputs": [],
   "source": [
    "import xml.etree.ElementTree as ET\n",
    "import os\n",
    "from os import walk\n",
    "import pandas as pd"
   ]
  },
  {
   "cell_type": "code",
   "execution_count": 2,
   "id": "1df53bd7-8c80-48cc-b790-da97b9ec20eb",
   "metadata": {},
   "outputs": [],
   "source": [
    "#Define helper functions\n",
    "def get_abstract(file_path):\n",
    "    \n",
    "    tree = ET.parse(file_path)\n",
    "    root = tree.getroot()\n",
    "    \n",
    "    if root.find('abstract') is None:\n",
    "        return None\n",
    "    \n",
    "    for item in root.find('abstract'):\n",
    "                \n",
    "        return item.text"
   ]
  },
  {
   "cell_type": "code",
   "execution_count": 3,
   "id": "85ba2999-7b24-4a90-9a08-c4d1d419d0dc",
   "metadata": {},
   "outputs": [
    {
     "name": "stdout",
     "output_type": "stream",
     "text": [
      "6946 files were found.\n"
     ]
    }
   ],
   "source": [
    "# Identify location of xml files\n",
    "mypath = \"data/xml/\"\n",
    "\n",
    "# create an empty list for the file paths\n",
    "files = []\n",
    "\n",
    "# walk the initial path looking for files with prlm and apbs in the filename and append those file paths to the list\n",
    "for (dirpath, dirnames, filenames) in walk(mypath):\n",
    "    for filename in filenames:\n",
    "        if 'us1' in filename:\n",
    "            files.append(mypath + filename)\n",
    "    break\n",
    "    \n",
    "print(len(files), \"files were found.\")"
   ]
  },
  {
   "cell_type": "code",
   "execution_count": 4,
   "id": "60566b91-add7-44c0-bde0-f669b5e04404",
   "metadata": {},
   "outputs": [
    {
     "name": "stdout",
     "output_type": "stream",
     "text": [
      "CPU times: user 11.3 s, sys: 187 ms, total: 11.5 s\n",
      "Wall time: 11.5 s\n"
     ]
    }
   ],
   "source": [
    "%%time\n",
    "abstracts = []\n",
    "\n",
    "for i in range(0,len(files)):\n",
    "    #print(files[i])\n",
    "    abstracts.append(get_abstract(files[i]))"
   ]
  },
  {
   "cell_type": "code",
   "execution_count": 5,
   "id": "4ef12531-acfc-4533-a5c5-b279e1158459",
   "metadata": {},
   "outputs": [
    {
     "name": "stdout",
     "output_type": "stream",
     "text": [
      "6946 abstracts found.\n"
     ]
    }
   ],
   "source": [
    "# Create a pandas dataframe\n",
    "df = pd.DataFrame({'FileName': files,\n",
    "                     'Abstract': abstracts\n",
    "                    })\n",
    "\n",
    "print(\"{} abstracts found.\".format(df.shape[0]))"
   ]
  },
  {
   "cell_type": "code",
   "execution_count": 6,
   "id": "96bb35be-d590-4b4b-b339-aa6ee6fb4a5c",
   "metadata": {},
   "outputs": [],
   "source": [
    "# Write Abstracts to csv file\n",
    "df.to_csv('abstracts.csv', index=False)"
   ]
  },
  {
   "cell_type": "code",
   "execution_count": 7,
   "id": "485c28ba-4b68-472e-a2be-f94401b9f166",
   "metadata": {},
   "outputs": [
    {
     "data": {
      "text/html": [
       "<div>\n",
       "<style scoped>\n",
       "    .dataframe tbody tr th:only-of-type {\n",
       "        vertical-align: middle;\n",
       "    }\n",
       "\n",
       "    .dataframe tbody tr th {\n",
       "        vertical-align: top;\n",
       "    }\n",
       "\n",
       "    .dataframe thead th {\n",
       "        text-align: right;\n",
       "    }\n",
       "</style>\n",
       "<table border=\"1\" class=\"dataframe\">\n",
       "  <thead>\n",
       "    <tr style=\"text-align: right;\">\n",
       "      <th></th>\n",
       "      <th>FileName</th>\n",
       "      <th>Abstract</th>\n",
       "    </tr>\n",
       "  </thead>\n",
       "  <tbody>\n",
       "    <tr>\n",
       "      <th>0</th>\n",
       "      <td>data/xml/us10885437-20210105.xml</td>\n",
       "      <td>Security systems and methods for detecting int...</td>\n",
       "    </tr>\n",
       "    <tr>\n",
       "      <th>1</th>\n",
       "      <td>data/xml/us10884005-20210105.xml</td>\n",
       "      <td>The present invention provides biomarkers usef...</td>\n",
       "    </tr>\n",
       "    <tr>\n",
       "      <th>2</th>\n",
       "      <td>data/xml/us10887313-20210105.xml</td>\n",
       "      <td>The described technology provides a single sig...</td>\n",
       "    </tr>\n",
       "    <tr>\n",
       "      <th>3</th>\n",
       "      <td>data/xml/us10887088-20210105.xml</td>\n",
       "      <td>A computing device includes an interface confi...</td>\n",
       "    </tr>\n",
       "    <tr>\n",
       "      <th>4</th>\n",
       "      <td>data/xml/us10887228-20210105.xml</td>\n",
       "      <td>Techniques for enabling peer-to-peer transmiss...</td>\n",
       "    </tr>\n",
       "  </tbody>\n",
       "</table>\n",
       "</div>"
      ],
      "text/plain": [
       "                           FileName  \\\n",
       "0  data/xml/us10885437-20210105.xml   \n",
       "1  data/xml/us10884005-20210105.xml   \n",
       "2  data/xml/us10887313-20210105.xml   \n",
       "3  data/xml/us10887088-20210105.xml   \n",
       "4  data/xml/us10887228-20210105.xml   \n",
       "\n",
       "                                            Abstract  \n",
       "0  Security systems and methods for detecting int...  \n",
       "1  The present invention provides biomarkers usef...  \n",
       "2  The described technology provides a single sig...  \n",
       "3  A computing device includes an interface confi...  \n",
       "4  Techniques for enabling peer-to-peer transmiss...  "
      ]
     },
     "execution_count": 7,
     "metadata": {},
     "output_type": "execute_result"
    }
   ],
   "source": [
    "# Verify csv was created properly\n",
    "df = pd.read_csv('abstracts.csv')\n",
    "df.head()"
   ]
  }
 ],
 "metadata": {
  "kernelspec": {
   "display_name": "Python 3 (ipykernel)",
   "language": "python",
   "name": "python3"
  },
  "language_info": {
   "codemirror_mode": {
    "name": "ipython",
    "version": 3
   },
   "file_extension": ".py",
   "mimetype": "text/x-python",
   "name": "python",
   "nbconvert_exporter": "python",
   "pygments_lexer": "ipython3",
   "version": "3.9.13"
  }
 },
 "nbformat": 4,
 "nbformat_minor": 5
}
